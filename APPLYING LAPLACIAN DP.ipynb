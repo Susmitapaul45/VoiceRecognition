{
 "cells": [
  {
   "cell_type": "markdown",
   "id": "b85d6e44",
   "metadata": {},
   "source": [
    "# FINAL"
   ]
  },
  {
   "cell_type": "code",
   "execution_count": 16,
   "id": "005cd8a1",
   "metadata": {},
   "outputs": [],
   "source": [
    "import pandas as pd\n",
    "import numpy as np\n",
    "from sklearn.preprocessing import StandardScaler\n",
    "\n",
    "# Load the dataset\n",
    "dataset = pd.read_csv(\"Loanfinal.csv\")\n",
    "\n",
    "# Extract the \"RiskLevel\" column for later\n",
    "risk_level_column = dataset[\"Loan_Status\"]\n",
    "\n",
    "# Apply StandardScaler to every numeric column (excluding \"RiskLevel\")\n",
    "numeric_columns = dataset.select_dtypes(include=[np.number]).columns\n",
    "\n",
    "scaler = StandardScaler()\n",
    "dataset[numeric_columns] = scaler.fit_transform(dataset[numeric_columns])\n",
    "\n",
    "# Define the privacy parameter epsilon with a fixed value\n",
    "epsilon = 8  # Fixed value for epsilon\n",
    "\n",
    "# Set a random seed for reproducibility\n",
    "np.random.seed(42)  # You can use any integer as the seed\n",
    "\n",
    "# Function to add Laplace noise to a column\n",
    "def add_noise(column, epsilon):\n",
    "    sensitivity = 1  # Assuming a sensitivity of 1 for simplicity\n",
    "    scale = sensitivity / epsilon\n",
    "    noise = np.random.laplace(0, scale, len(column))\n",
    "    return column + noise\n",
    "\n",
    "# Apply differential privacy to each numeric column in the dataset (excluding \"RiskLevel\")\n",
    "for column in numeric_columns:\n",
    "    dataset[column] = add_noise(dataset[column], epsilon)\n",
    "\n",
    "# Restore the \"RiskLevel\" column\n",
    "dataset[\"Loan_Status\"] = risk_level_column\n",
    "\n",
    "# Now, 'dataset' contains differentially private data, excluding \"RiskLevel\"\n",
    "\n",
    "# Save the differentially private dataset to a new CSV file\n",
    "dataset.to_csv(\"LoanDP-8.csv\", index=False)"
   ]
  },
  {
   "cell_type": "code",
   "execution_count": null,
   "id": "48c7699d",
   "metadata": {},
   "outputs": [],
   "source": [
    "# You can also load the saved dataset with the same random seed\n",
    "datasetf = pd.read_csv('LoanDP-8.csv')"
   ]
  }
 ],
 "metadata": {
  "kernelspec": {
   "display_name": "Python 3 (ipykernel)",
   "language": "python",
   "name": "python3"
  },
  "language_info": {
   "codemirror_mode": {
    "name": "ipython",
    "version": 3
   },
   "file_extension": ".py",
   "mimetype": "text/x-python",
   "name": "python",
   "nbconvert_exporter": "python",
   "pygments_lexer": "ipython3",
   "version": "3.11.5"
  }
 },
 "nbformat": 4,
 "nbformat_minor": 5
}
